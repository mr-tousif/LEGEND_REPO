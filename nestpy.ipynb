{
 "cells": [
  {
   "cell_type": "code",
   "execution_count": 3,
   "metadata": {},
   "outputs": [
    {
     "name": "stdout",
     "output_type": "stream",
     "text": [
      "For an 10 keV INTERACTION_TYPE.NR\n",
      "The photon yield is: 81.88959268852247\n",
      "With statistical fluctuations 92\n"
     ]
    }
   ],
   "source": [
    "import nestpy\n",
    "\n",
    "# This is same as C++ NEST with naming\n",
    "nc = nestpy.NESTcalc(nestpy.VDetector())\n",
    "\n",
    "interaction = nestpy.INTERACTION_TYPE(0)  # NR\n",
    "\n",
    "E = 10  # keV\n",
    "print('For an %s keV %s' % (E, interaction))\n",
    "\n",
    "# Get particle yields\n",
    "y = nc.GetYields(interaction,\n",
    "\t\t E)\n",
    "\n",
    "print('The photon yield is:', y.PhotonYield)\n",
    "print('With statistical fluctuations',\n",
    "      nc.GetQuanta(y).photons)"
   ]
  },
  {
   "cell_type": "code",
   "execution_count": 4,
   "metadata": {},
   "outputs": [],
   "source": [
    "import nestpy"
   ]
  },
  {
   "cell_type": "code",
   "execution_count": 5,
   "metadata": {},
   "outputs": [
    {
     "name": "stderr",
     "output_type": "stream",
     "text": [
      "*** Detector definition message ***\n",
      "You are currently using the default XENON10 template detector.\n",
      "\n"
     ]
    }
   ],
   "source": [
    "detector=nestpy.DetectorExample_XENON10()"
   ]
  },
  {
   "cell_type": "code",
   "execution_count": 6,
   "metadata": {},
   "outputs": [
    {
     "name": "stdout",
     "output_type": "stream",
     "text": [
      "<nestpy.nestpy.DetectorExample_XENON10 object at 0x10a5f7d30>\n"
     ]
    }
   ],
   "source": [
    "print(detector)"
   ]
  },
  {
   "cell_type": "code",
   "execution_count": 7,
   "metadata": {},
   "outputs": [],
   "source": [
    "nc=nestpy.NESTcalc(detector)"
   ]
  },
  {
   "cell_type": "code",
   "execution_count": 8,
   "metadata": {},
   "outputs": [
    {
     "data": {
      "text/plain": [
       "<nestpy.nestpy.NESTcalc at 0x10b093a30>"
      ]
     },
     "execution_count": 8,
     "metadata": {},
     "output_type": "execute_result"
    }
   ],
   "source": [
    "nc"
   ]
  },
  {
   "cell_type": "code",
   "execution_count": null,
   "metadata": {},
   "outputs": [],
   "source": []
  }
 ],
 "metadata": {
  "kernelspec": {
   "display_name": "base",
   "language": "python",
   "name": "python3"
  },
  "language_info": {
   "codemirror_mode": {
    "name": "ipython",
    "version": 3
   },
   "file_extension": ".py",
   "mimetype": "text/x-python",
   "name": "python",
   "nbconvert_exporter": "python",
   "pygments_lexer": "ipython3",
   "version": "3.10.11"
  },
  "orig_nbformat": 4
 },
 "nbformat": 4,
 "nbformat_minor": 2
}
